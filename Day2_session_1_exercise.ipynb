{
  "nbformat": 4,
  "nbformat_minor": 0,
  "metadata": {
    "colab": {
      "name": "Day2 session 1 exercise.ipynb",
      "provenance": [],
      "authorship_tag": "ABX9TyM0bA7eqS2xgNlsBRHcJM8d",
      "include_colab_link": true
    },
    "kernelspec": {
      "name": "python3",
      "display_name": "Python 3"
    }
  },
  "cells": [
    {
      "cell_type": "markdown",
      "metadata": {
        "id": "view-in-github",
        "colab_type": "text"
      },
      "source": [
        "<a href=\"https://colab.research.google.com/github/priya3028/Workshop-on-Python-Programming-in-Data-Analytics-and-Machine-Learning/blob/master/Day2_session_1_exercise.ipynb\" target=\"_parent\"><img src=\"https://colab.research.google.com/assets/colab-badge.svg\" alt=\"Open In Colab\"/></a>"
      ]
    },
    {
      "cell_type": "markdown",
      "metadata": {
        "id": "2MqJqx_LzIwW",
        "colab_type": "text"
      },
      "source": [
        "List Exercise"
      ]
    },
    {
      "cell_type": "markdown",
      "metadata": {
        "id": "JvpqGEAazYBH",
        "colab_type": "text"
      },
      "source": [
        "Print multiples of 3 upto 200 using a list"
      ]
    },
    {
      "cell_type": "code",
      "metadata": {
        "id": "P-HiBVD5zeR2",
        "colab_type": "code",
        "colab": {
          "base_uri": "https://localhost:8080/",
          "height": 55
        },
        "outputId": "f8f19cef-9826-4b85-c184-06d95130d9af"
      },
      "source": [
        "\n",
        "print(([i  for i in range(0,200) if i%3==0]))"
      ],
      "execution_count": 2,
      "outputs": [
        {
          "output_type": "stream",
          "text": [
            "[0, 3, 6, 9, 12, 15, 18, 21, 24, 27, 30, 33, 36, 39, 42, 45, 48, 51, 54, 57, 60, 63, 66, 69, 72, 75, 78, 81, 84, 87, 90, 93, 96, 99, 102, 105, 108, 111, 114, 117, 120, 123, 126, 129, 132, 135, 138, 141, 144, 147, 150, 153, 156, 159, 162, 165, 168, 171, 174, 177, 180, 183, 186, 189, 192, 195, 198]\n"
          ],
          "name": "stdout"
        }
      ]
    },
    {
      "cell_type": "markdown",
      "metadata": {
        "id": "ByBcVzBzzoWy",
        "colab_type": "text"
      },
      "source": [
        "print the numbers only divisible by 5 and 7 between 1000 and 2000 using a list(both inclusive)"
      ]
    },
    {
      "cell_type": "code",
      "metadata": {
        "id": "SpeMC6l6z4DK",
        "colab_type": "code",
        "colab": {
          "base_uri": "https://localhost:8080/",
          "height": 55
        },
        "outputId": "b8741d55-a9ae-45c6-80ac-fd220d36ee71"
      },
      "source": [
        "print(([i  for i in range(1000,2000) if(i%5==0 and i%7==0)]))"
      ],
      "execution_count": 3,
      "outputs": [
        {
          "output_type": "stream",
          "text": [
            "[1015, 1050, 1085, 1120, 1155, 1190, 1225, 1260, 1295, 1330, 1365, 1400, 1435, 1470, 1505, 1540, 1575, 1610, 1645, 1680, 1715, 1750, 1785, 1820, 1855, 1890, 1925, 1960, 1995]\n"
          ],
          "name": "stdout"
        }
      ]
    },
    {
      "cell_type": "code",
      "metadata": {
        "id": "26hElkrIz-14",
        "colab_type": "code",
        "colab": {}
      },
      "source": [
        ""
      ],
      "execution_count": 0,
      "outputs": []
    },
    {
      "cell_type": "markdown",
      "metadata": {
        "id": "59CUKvqO0NHp",
        "colab_type": "text"
      },
      "source": [
        "Add the n number of names in a list and print them alphabetically and reverse alphabetically."
      ]
    },
    {
      "cell_type": "code",
      "metadata": {
        "id": "jsTiQ-he0OFB",
        "colab_type": "code",
        "colab": {
          "base_uri": "https://localhost:8080/",
          "height": 173
        },
        "outputId": "63710f29-5503-4735-ae12-64076fa094f4"
      },
      "source": [
        "names=([(input()) for i in range(int(input(\"Enter n: \")))])\n",
        "print(\"Input :\",names)\n",
        "names.sort()\n",
        "print(\"alphabetically : \",names)\n",
        "names.sort(reverse=True)\n",
        "print(\"reverse alphabetically: \",names)"
      ],
      "execution_count": 5,
      "outputs": [
        {
          "output_type": "stream",
          "text": [
            "Enter n: 5\n",
            "Priya\n",
            "Akshay\n",
            "Kushi\n",
            "Abhi\n",
            "Harish\n",
            "Input : ['Priya', 'Akshay', 'Kushi', 'Abhi', 'Harish']\n",
            "alphabetically :  ['Abhi', 'Akshay', 'Harish', 'Kushi', 'Priya']\n",
            "reverse alphabetically:  ['Priya', 'Kushi', 'Harish', 'Akshay', 'Abhi']\n"
          ],
          "name": "stdout"
        }
      ]
    },
    {
      "cell_type": "markdown",
      "metadata": {
        "id": "2zx5O3Mp06dZ",
        "colab_type": "text"
      },
      "source": [
        "Print perfect squares and divisible by 5 between 500 and 1000( (both inclusive) using list"
      ]
    },
    {
      "cell_type": "code",
      "metadata": {
        "id": "6Y1CkYWF0-vv",
        "colab_type": "code",
        "colab": {
          "base_uri": "https://localhost:8080/",
          "height": 35
        },
        "outputId": "29b36857-4301-4669-c1b0-d6db483d32fb"
      },
      "source": [
        "def perfectSquares(l, r): \n",
        "\tfor i in range(l, r + 1): \n",
        "\t\tif ((i**(.5) == int(i**(.5))) and i%5==0): \n",
        "\t\t\tprint(i, end=\" \") \n",
        "perfectSquares(500, 1000)"
      ],
      "execution_count": 6,
      "outputs": [
        {
          "output_type": "stream",
          "text": [
            "625 900 "
          ],
          "name": "stdout"
        }
      ]
    },
    {
      "cell_type": "markdown",
      "metadata": {
        "id": "2qUOnuea1HIY",
        "colab_type": "text"
      },
      "source": [
        "Tuples Exercise"
      ]
    },
    {
      "cell_type": "markdown",
      "metadata": {
        "id": "D2CHr70e1Ki4",
        "colab_type": "text"
      },
      "source": [
        "Get a string and store word by word as elements in a tuple and find the largest word in the tuple and print it"
      ]
    },
    {
      "cell_type": "code",
      "metadata": {
        "id": "wQTRfRe01N94",
        "colab_type": "code",
        "colab": {
          "base_uri": "https://localhost:8080/",
          "height": 69
        },
        "outputId": "e30f4b99-37f5-40c9-83bc-d809482562cd"
      },
      "source": [
        "txt=input(\"enter string: \")\n",
        "words = txt.split()\n",
        "a = list()\n",
        "for word in words:\n",
        "  a.append((word))\n",
        "max1=len(a[0])\n",
        "temp=a[0]\n",
        "for i in a:\n",
        "    if(len(i)>max1):\n",
        "       max1=len(i)\n",
        "       temp=i\n",
        "print(\"The word with the longest length is:\")\n",
        "print(temp)"
      ],
      "execution_count": 7,
      "outputs": [
        {
          "output_type": "stream",
          "text": [
            "enter string: Applications of Python\n",
            "The word with the longest length is:\n",
            "Applications\n"
          ],
          "name": "stdout"
        }
      ]
    },
    {
      "cell_type": "markdown",
      "metadata": {
        "id": "K3RBlNub1kk2",
        "colab_type": "text"
      },
      "source": [
        "Get rollno and marks (Rollno, mark) as list of tuples for n number of students through keyboard and print them in marks descending order with rollno."
      ]
    },
    {
      "cell_type": "code",
      "metadata": {
        "id": "btn4nQMo1V_5",
        "colab_type": "code",
        "colab": {
          "base_uri": "https://localhost:8080/",
          "height": 173
        },
        "outputId": "9c6c3919-b8f3-45b1-c943-43cd65f0a3cc"
      },
      "source": [
        "t=[]\n",
        "a=[]\n",
        "n=int(input(\"enter num of students: \"))\n",
        "for i in range(0,n):\n",
        "  e=int(input(\"enter rollnum: \"))\n",
        "  j=int(input(\"enter marks: \"))\n",
        "  t.append(e)\n",
        "  a.append(j)\n",
        "m = [(t[i], a[i]) for i in range(0, len(t))]\n",
        "print(\"input: \",m)\n",
        "m.sort(key = lambda x: x[1],reverse=1)  \n",
        "print(\"output\",m)"
      ],
      "execution_count": 8,
      "outputs": [
        {
          "output_type": "stream",
          "text": [
            "enter num of students: 3\n",
            "enter rollnum: 1\n",
            "enter marks: 25\n",
            "enter rollnum: 2\n",
            "enter marks: 5\n",
            "enter rollnum: 3\n",
            "enter marks: 45\n",
            "input:  [(1, 25), (2, 5), (3, 45)]\n",
            "output [(3, 45), (1, 25), (2, 5)]\n"
          ],
          "name": "stdout"
        }
      ]
    },
    {
      "cell_type": "markdown",
      "metadata": {
        "id": "TZIeULKn11r7",
        "colab_type": "text"
      },
      "source": [
        "Get name and salary (name, salary) as list of tuples for n number of employees through keyboard and print them in name alphabetical order with salary"
      ]
    },
    {
      "cell_type": "code",
      "metadata": {
        "id": "73U9-K0U1pOu",
        "colab_type": "code",
        "colab": {
          "base_uri": "https://localhost:8080/",
          "height": 173
        },
        "outputId": "baa98042-9e52-46df-b6f4-4deac97ccec0"
      },
      "source": [
        "t=[]\n",
        "a=[]\n",
        "n=int(input(\"enter num of employees: \"))\n",
        "for i in range(0,n):\n",
        "  e=(input(\"enter name: \"))\n",
        "  j=float(input(\"enter salary: \"))\n",
        "  t.append(e)\n",
        "  a.append(j)\n",
        "m = [(t[i], a[i]) for i in range(0, len(t))]\n",
        "print(\"input: \",m)\n",
        "m.sort(key = lambda x: x[0])  \n",
        "print(\"output\",m)"
      ],
      "execution_count": 9,
      "outputs": [
        {
          "output_type": "stream",
          "text": [
            "enter num of employees: 3\n",
            "enter name: Appu\n",
            "enter salary: 45000\n",
            "enter name: abhi\n",
            "enter salary: 50000\n",
            "enter name: karadi\n",
            "enter salary: 80000\n",
            "input:  [('Appu', 45000.0), ('abhi', 50000.0), ('karadi', 80000.0)]\n",
            "output [('Appu', 45000.0), ('abhi', 50000.0), ('karadi', 80000.0)]\n"
          ],
          "name": "stdout"
        }
      ]
    },
    {
      "cell_type": "code",
      "metadata": {
        "id": "LMDsZJ7q199q",
        "colab_type": "code",
        "colab": {}
      },
      "source": [
        ""
      ],
      "execution_count": 0,
      "outputs": []
    }
  ]
}