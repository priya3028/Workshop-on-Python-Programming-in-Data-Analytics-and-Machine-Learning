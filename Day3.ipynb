{
  "nbformat": 4,
  "nbformat_minor": 0,
  "metadata": {
    "colab": {
      "name": "Day3.ipynb",
      "provenance": [],
      "authorship_tag": "ABX9TyP+p3sNiYrrfi8YpVf1Hd4y",
      "include_colab_link": true
    },
    "kernelspec": {
      "name": "python3",
      "display_name": "Python 3"
    }
  },
  "cells": [
    {
      "cell_type": "markdown",
      "metadata": {
        "id": "view-in-github",
        "colab_type": "text"
      },
      "source": [
        "<a href=\"https://colab.research.google.com/github/priya3028/Workshop-on-Python-Programming-in-Data-Analytics-and-Machine-Learning/blob/master/Day3.ipynb\" target=\"_parent\"><img src=\"https://colab.research.google.com/assets/colab-badge.svg\" alt=\"Open In Colab\"/></a>"
      ]
    },
    {
      "cell_type": "markdown",
      "metadata": {
        "id": "9Sxa3GFxfkV3",
        "colab_type": "text"
      },
      "source": [
        "Pandas Examples"
      ]
    },
    {
      "cell_type": "markdown",
      "metadata": {
        "id": "YDxtC4hqfsFt",
        "colab_type": "text"
      },
      "source": [
        "Write a Pandas program to create and display a one-dimensional array using series containing even numbers upto 10"
      ]
    },
    {
      "cell_type": "code",
      "metadata": {
        "id": "qn7EFTTffoBY",
        "colab_type": "code",
        "colab": {
          "base_uri": "https://localhost:8080/",
          "height": 122
        },
        "outputId": "13c63686-2a4f-4a00-fbd1-c7635bac5580"
      },
      "source": [
        "import pandas as pd\n",
        "ds = pd.Series([2, 4, 6, 8,10]) \n",
        "print(ds)\n"
      ],
      "execution_count": null,
      "outputs": [
        {
          "output_type": "stream",
          "text": [
            "0     2\n",
            "1     4\n",
            "2     6\n",
            "3     8\n",
            "4    10\n",
            "dtype: int64\n"
          ],
          "name": "stdout"
        }
      ]
    },
    {
      "cell_type": "markdown",
      "metadata": {
        "id": "i1-3BPvOf2j5",
        "colab_type": "text"
      },
      "source": [
        "Write a Pandas program to convert a Panda module Series to Python list and its type."
      ]
    },
    {
      "cell_type": "code",
      "metadata": {
        "id": "Jw_1Y6BofxhM",
        "colab_type": "code",
        "colab": {
          "base_uri": "https://localhost:8080/",
          "height": 210
        },
        "outputId": "cab65df8-08be-4343-a0f2-1c66a6471200"
      },
      "source": [
        "import pandas as pd\n",
        "ds = pd.Series([2, 4, 6, 8, 10])\n",
        "print(\"Pandas Series and type\")\n",
        "print(ds)\n",
        "print(type(ds))\n",
        "print(\"Convert Pandas Series to Python list\")\n",
        "print(ds.tolist())\n",
        "print(type(ds.tolist()))"
      ],
      "execution_count": null,
      "outputs": [
        {
          "output_type": "stream",
          "text": [
            "Pandas Series and type\n",
            "0     2\n",
            "1     4\n",
            "2     6\n",
            "3     8\n",
            "4    10\n",
            "dtype: int64\n",
            "<class 'pandas.core.series.Series'>\n",
            "Convert Pandas Series to Python list\n",
            "[2, 4, 6, 8, 10]\n",
            "<class 'list'>\n"
          ],
          "name": "stdout"
        }
      ]
    },
    {
      "cell_type": "markdown",
      "metadata": {
        "id": "cf6sRJbUgASL",
        "colab_type": "text"
      },
      "source": [
        "Write a Pandas program to add, subtract, multiple and divide two Pandas Series.\n",
        "\n",
        "\n",
        "Sample Series: [2, 4, 6, 8, 10], [1, 3, 5, 7, 9]"
      ]
    },
    {
      "cell_type": "code",
      "metadata": {
        "id": "ms1-xz-af8-5",
        "colab_type": "code",
        "colab": {
          "base_uri": "https://localhost:8080/",
          "height": 509
        },
        "outputId": "735d607d-fc10-4a4f-bdd5-273c89c703f0"
      },
      "source": [
        "import pandas as pd\n",
        "ds1 = pd.Series([2, 4, 6, 8, 10])\n",
        "ds2 = pd.Series([1, 3, 5, 7, 9])\n",
        "ds = ds1 + ds2\n",
        "print(\"Add two Series:\")\n",
        "print(ds)\n",
        "print(\"Subtract two Series:\")\n",
        "ds = ds1 - ds2\n",
        "print(ds)\n",
        "print(\"Multiply two Series:\")\n",
        "ds = ds1 * ds2\n",
        "print(ds)\n",
        "print(\"Divide Series1 by Series2:\")\n",
        "ds = ds1 / ds2\n",
        "print(ds)"
      ],
      "execution_count": null,
      "outputs": [
        {
          "output_type": "stream",
          "text": [
            "Add two Series:\n",
            "0     3\n",
            "1     7\n",
            "2    11\n",
            "3    15\n",
            "4    19\n",
            "dtype: int64\n",
            "Subtract two Series:\n",
            "0    1\n",
            "1    1\n",
            "2    1\n",
            "3    1\n",
            "4    1\n",
            "dtype: int64\n",
            "Multiply two Series:\n",
            "0     2\n",
            "1    12\n",
            "2    30\n",
            "3    56\n",
            "4    90\n",
            "dtype: int64\n",
            "Divide Series1 by Series2:\n",
            "0    2.000000\n",
            "1    1.333333\n",
            "2    1.200000\n",
            "3    1.142857\n",
            "4    1.111111\n",
            "dtype: float64\n"
          ],
          "name": "stdout"
        }
      ]
    },
    {
      "cell_type": "markdown",
      "metadata": {
        "id": "XrxCQiz9gUCB",
        "colab_type": "text"
      },
      "source": [
        "Write a Pandas program to compare the elements of the two Pandas Series.\n",
        "\n",
        "\n",
        "Sample Series: [2, 4, 6, 8, 10], [1, 3, 5, 7, 9]"
      ]
    },
    {
      "cell_type": "code",
      "metadata": {
        "id": "eeonO6LfgW5F",
        "colab_type": "code",
        "colab": {
          "base_uri": "https://localhost:8080/",
          "height": 650
        },
        "outputId": "f8e13487-e791-42de-edf1-7d3262d8646c"
      },
      "source": [
        "import pandas as pd\n",
        "ds1 = pd.Series([2, 4, 6, 8, 10])\n",
        "ds2 = pd.Series([1, 3, 5, 7, 10])\n",
        "print(\"Series1:\")\n",
        "print(ds1)\n",
        "print(\"Series2:\")\n",
        "print(ds2)\n",
        "print(\"Compare the elements of the said Series:\")\n",
        "print(\"Equals:\")\n",
        "print(ds1 == ds2)\n",
        "print(\"Greater than:\")\n",
        "print(ds1 > ds2)\n",
        "print(\"Less than:\")\n",
        "print(ds1 < ds2)"
      ],
      "execution_count": null,
      "outputs": [
        {
          "output_type": "stream",
          "text": [
            "Series1:\n",
            "0     2\n",
            "1     4\n",
            "2     6\n",
            "3     8\n",
            "4    10\n",
            "dtype: int64\n",
            "Series2:\n",
            "0     1\n",
            "1     3\n",
            "2     5\n",
            "3     7\n",
            "4    10\n",
            "dtype: int64\n",
            "Compare the elements of the said Series:\n",
            "Equals:\n",
            "0    False\n",
            "1    False\n",
            "2    False\n",
            "3    False\n",
            "4     True\n",
            "dtype: bool\n",
            "Greater than:\n",
            "0     True\n",
            "1     True\n",
            "2     True\n",
            "3     True\n",
            "4    False\n",
            "dtype: bool\n",
            "Less than:\n",
            "0    False\n",
            "1    False\n",
            "2    False\n",
            "3    False\n",
            "4    False\n",
            "dtype: bool\n"
          ],
          "name": "stdout"
        }
      ]
    },
    {
      "cell_type": "markdown",
      "metadata": {
        "id": "C1VeE9B8gdzz",
        "colab_type": "text"
      },
      "source": [
        "Write a Pandas program to convert a dictionary to a Pandas series.\n",
        "\n",
        "\n",
        "Sample dictionary: d1 = {'a': 100, 'b': 200, 'c':300, 'd':400, 'e':800}"
      ]
    },
    {
      "cell_type": "code",
      "metadata": {
        "id": "BxOvrKpIgakT",
        "colab_type": "code",
        "colab": {
          "base_uri": "https://localhost:8080/",
          "height": 175
        },
        "outputId": "1f5d1f8b-c3ab-4dcb-c8d5-9d623edfddb3"
      },
      "source": [
        "import pandas as pd\n",
        "d1 = {'a': 100, 'b': 200, 'c':300, 'd':400, 'e':800}\n",
        "print(\"Original dictionary:\")\n",
        "print(d1)\n",
        "new_series = pd.Series(d1)\n",
        "print(\"Converted series:\")\n",
        "print(new_series)"
      ],
      "execution_count": null,
      "outputs": [
        {
          "output_type": "stream",
          "text": [
            "Original dictionary:\n",
            "{'a': 100, 'b': 200, 'c': 300, 'd': 400, 'e': 800}\n",
            "Converted series:\n",
            "a    100\n",
            "b    200\n",
            "c    300\n",
            "d    400\n",
            "e    800\n",
            "dtype: int64\n"
          ],
          "name": "stdout"
        }
      ]
    },
    {
      "cell_type": "markdown",
      "metadata": {
        "id": "-V8KcGjvhxRx",
        "colab_type": "text"
      },
      "source": [
        "Write a Pandas program to convert a NumPy array to a Pandas series.\n",
        "\n",
        "Sample NumPy array: d1 = [10, 20, 30, 40, 50]"
      ]
    },
    {
      "cell_type": "code",
      "metadata": {
        "id": "nYIYrLkNhAKd",
        "colab_type": "code",
        "colab": {
          "base_uri": "https://localhost:8080/",
          "height": 175
        },
        "outputId": "80ec23ae-1f7c-4eda-9898-3c947941f484"
      },
      "source": [
        "import numpy as np\n",
        "import pandas as pd\n",
        "np_array = np.array([10, 20, 30, 40, 50])\n",
        "print(\"NumPy array:\")\n",
        "print(np_array)\n",
        "new_series = pd.Series(np_array)\n",
        "print(\"Converted Pandas series:\")\n",
        "print(new_series)\n"
      ],
      "execution_count": null,
      "outputs": [
        {
          "output_type": "stream",
          "text": [
            "NumPy array:\n",
            "[10 20 30 40 50]\n",
            "Converted Pandas series:\n",
            "0    10\n",
            "1    20\n",
            "2    30\n",
            "3    40\n",
            "4    50\n",
            "dtype: int64\n"
          ],
          "name": "stdout"
        }
      ]
    },
    {
      "cell_type": "markdown",
      "metadata": {
        "id": "k1vLzN_liNO1",
        "colab_type": "text"
      },
      "source": [
        "Write a Pandas program to change the data type of the given Series into numeric\n",
        "\n",
        "['100', '200', 'python', '300.12', '400']"
      ]
    },
    {
      "cell_type": "code",
      "metadata": {
        "id": "8R0Ri-NAh6s3",
        "colab_type": "code",
        "colab": {
          "base_uri": "https://localhost:8080/",
          "height": 263
        },
        "outputId": "304416b5-07ec-4d4e-d37a-da04e6ec2e71"
      },
      "source": [
        "import pandas as pd\n",
        "s1 = pd.Series(['100', '200', 'python', '300.12', '400a'])\n",
        "print(\"Original Data Series:\")\n",
        "print(s1)\n",
        "print(\"Change the said data type to numeric:\")\n",
        "s2 = pd.to_numeric(s1, errors='coerce')\n",
        "print(s2)\n"
      ],
      "execution_count": null,
      "outputs": [
        {
          "output_type": "stream",
          "text": [
            "Original Data Series:\n",
            "0       100\n",
            "1       200\n",
            "2    python\n",
            "3    300.12\n",
            "4      400a\n",
            "dtype: object\n",
            "Change the said data type to numeric:\n",
            "0    100.00\n",
            "1    200.00\n",
            "2       NaN\n",
            "3    300.12\n",
            "4       NaN\n",
            "dtype: float64\n"
          ],
          "name": "stdout"
        }
      ]
    },
    {
      "cell_type": "markdown",
      "metadata": {
        "id": "AxmFeBdfiY3z",
        "colab_type": "text"
      },
      "source": [
        "Write a Pandas program to convert a given Series to an array"
      ]
    },
    {
      "cell_type": "code",
      "metadata": {
        "id": "Nh6bZqyJiWfz",
        "colab_type": "code",
        "colab": {
          "base_uri": "https://localhost:8080/",
          "height": 175
        },
        "outputId": "1916212b-800a-411d-9028-c41a68f19e11"
      },
      "source": [
        "import numpy as np\n",
        "s1 = pd.Series(['100', '200', 'python', '300.12', '400'])\n",
        "print(\"Original Data Series:\")\n",
        "print(s1)\n",
        "print(\"Series to an array\")\n",
        "a = np.array(s1.values.tolist())\n",
        "print (a)"
      ],
      "execution_count": null,
      "outputs": [
        {
          "output_type": "stream",
          "text": [
            "Original Data Series:\n",
            "0       100\n",
            "1       200\n",
            "2    python\n",
            "3    300.12\n",
            "4       400\n",
            "dtype: object\n",
            "Series to an array\n",
            "['100' '200' 'python' '300.12' '400']\n"
          ],
          "name": "stdout"
        }
      ]
    },
    {
      "cell_type": "markdown",
      "metadata": {
        "id": "o7SA03ZEijtC",
        "colab_type": "text"
      },
      "source": [
        "**Write a Pandas program to sort a given Series.**"
      ]
    },
    {
      "cell_type": "code",
      "metadata": {
        "id": "kaL3ESqOireD",
        "colab_type": "code",
        "colab": {
          "base_uri": "https://localhost:8080/",
          "height": 245
        },
        "outputId": "7a4bb84c-854e-48c3-cb10-11f90cb035dc"
      },
      "source": [
        "import pandas as pd\n",
        "s = pd.Series(['200','100','python', '300.12', '400'])\n",
        "print(\"Original Data Series:\")\n",
        "print(s)\n",
        "new_s = pd.Series(s).sort_values()\n",
        "print(new_s)"
      ],
      "execution_count": null,
      "outputs": [
        {
          "output_type": "stream",
          "text": [
            "Original Data Series:\n",
            "0       200\n",
            "1       100\n",
            "2    python\n",
            "3    300.12\n",
            "4       400\n",
            "dtype: object\n",
            "1       100\n",
            "0       200\n",
            "3    300.12\n",
            "4       400\n",
            "2    python\n",
            "dtype: object\n"
          ],
          "name": "stdout"
        }
      ]
    },
    {
      "cell_type": "markdown",
      "metadata": {
        "id": "AYcikBZri9L5",
        "colab_type": "text"
      },
      "source": [
        "**Write a Pandas program to add some data to an existing Series**"
      ]
    },
    {
      "cell_type": "code",
      "metadata": {
        "id": "6KZxCTSJiuXv",
        "colab_type": "code",
        "colab": {
          "base_uri": "https://localhost:8080/",
          "height": 316
        },
        "outputId": "8c56a846-3de0-43f9-f8a1-ab675b2354d5"
      },
      "source": [
        "import pandas as pd\n",
        "s = pd.Series(['100', '200', 'python', '300.12', '400'])\n",
        "print(\"Original Data Series:\")\n",
        "print(s)\n",
        "print(\"\\nData Series after adding some data:\")\n",
        "new_s = s.append(pd.Series(['500', 'php']))\n",
        "print(new_s)"
      ],
      "execution_count": null,
      "outputs": [
        {
          "output_type": "stream",
          "text": [
            "Original Data Series:\n",
            "0       100\n",
            "1       200\n",
            "2    python\n",
            "3    300.12\n",
            "4       400\n",
            "dtype: object\n",
            "\n",
            "Data Series after adding some data:\n",
            "0       100\n",
            "1       200\n",
            "2    python\n",
            "3    300.12\n",
            "4       400\n",
            "0       500\n",
            "1       php\n",
            "dtype: object\n"
          ],
          "name": "stdout"
        }
      ]
    },
    {
      "cell_type": "markdown",
      "metadata": {
        "id": "_gq27eLTjO-r",
        "colab_type": "text"
      },
      "source": [
        "**Write a Pandas program to create a subset of a given series based on value and condition.**"
      ]
    },
    {
      "cell_type": "code",
      "metadata": {
        "id": "RvzDjuHSjRK9",
        "colab_type": "code",
        "colab": {
          "base_uri": "https://localhost:8080/",
          "height": 368
        },
        "outputId": "1d48e61a-45b0-4a83-eb6d-3b99ae8340f7"
      },
      "source": [
        "import pandas as pd\n",
        "s = pd.Series([0, 1,2,3,4,5,6,7,8,9,10])\n",
        "print(\"Original Data Series:\")\n",
        "print(s)\n",
        "print(\"\\nSubset of the above Data Series:\")\n",
        "n = 6\n",
        "new_s = s[s >n]\n",
        "print(new_s)"
      ],
      "execution_count": null,
      "outputs": [
        {
          "output_type": "stream",
          "text": [
            "Original Data Series:\n",
            "0      0\n",
            "1      1\n",
            "2      2\n",
            "3      3\n",
            "4      4\n",
            "5      5\n",
            "6      6\n",
            "7      7\n",
            "8      8\n",
            "9      9\n",
            "10    10\n",
            "dtype: int64\n",
            "\n",
            "Subset of the above Data Series:\n",
            "7      7\n",
            "8      8\n",
            "9      9\n",
            "10    10\n",
            "dtype: int64\n"
          ],
          "name": "stdout"
        }
      ]
    },
    {
      "cell_type": "markdown",
      "metadata": {
        "id": "qYGi3kTjjaJS",
        "colab_type": "text"
      },
      "source": [
        "**Write a Pandas program to change the order of index of a given series**."
      ]
    },
    {
      "cell_type": "code",
      "metadata": {
        "id": "I_yyDR79jWvP",
        "colab_type": "code",
        "colab": {
          "base_uri": "https://localhost:8080/",
          "height": 263
        },
        "outputId": "ad8186b3-7e31-454f-e03e-c40a13b4cc18"
      },
      "source": [
        "import pandas as pd\n",
        "s = pd.Series(data = [1,2,3,4,5], index = ['A', 'B', 'C','D','E'])\n",
        "print(\"Original Data Series:\")\n",
        "print(s)\n",
        "s = s.reindex(index = ['B','A','C','D','E'])\n",
        "print(\"Data Series after changing the order of index:\")\n",
        "print(s)"
      ],
      "execution_count": null,
      "outputs": [
        {
          "output_type": "stream",
          "text": [
            "Original Data Series:\n",
            "A    1\n",
            "B    2\n",
            "C    3\n",
            "D    4\n",
            "E    5\n",
            "dtype: int64\n",
            "Data Series after changing the order of index:\n",
            "B    2\n",
            "A    1\n",
            "C    3\n",
            "D    4\n",
            "E    5\n",
            "dtype: int64\n"
          ],
          "name": "stdout"
        }
      ]
    },
    {
      "cell_type": "markdown",
      "metadata": {
        "id": "DBUoJmKJjvYT",
        "colab_type": "text"
      },
      "source": [
        "**Write a Pandas program to create the mean and standard deviation, maximum and minimum of the data of a given Series**."
      ]
    },
    {
      "cell_type": "code",
      "metadata": {
        "id": "lsV78AnRjmuv",
        "colab_type": "code",
        "colab": {
          "base_uri": "https://localhost:8080/",
          "height": 316
        },
        "outputId": "2b5d91f6-6919-404c-f754-668e8f357d9c"
      },
      "source": [
        "import pandas as pd\n",
        "s = pd.Series(data = [1,2,3,4,5,6,7,8,9,5,3])\n",
        "print(\"Original Data Series:\")\n",
        "print(s)\n",
        "print(\"Mean of the said Data Series:\")\n",
        "print(s.mean())\n",
        "print(\"Standard deviation of the said Data Series:\")\n",
        "print(s.std())"
      ],
      "execution_count": null,
      "outputs": [
        {
          "output_type": "stream",
          "text": [
            "Original Data Series:\n",
            "0     1\n",
            "1     2\n",
            "2     3\n",
            "3     4\n",
            "4     5\n",
            "5     6\n",
            "6     7\n",
            "7     8\n",
            "8     9\n",
            "9     5\n",
            "10    3\n",
            "dtype: int64\n",
            "Mean of the said Data Series:\n",
            "4.818181818181818\n",
            "Standard deviation of the said Data Series:\n",
            "2.522624895547565\n"
          ],
          "name": "stdout"
        }
      ]
    },
    {
      "cell_type": "markdown",
      "metadata": {
        "id": "PjDghV_dj6zL",
        "colab_type": "text"
      },
      "source": [
        "**Write a Pandas program to get the elements of an array values into column-wise**.\n",
        "\n",
        "Sample data: {‘X’:[78,85,96,80,86], 'Y':[84,94,89,83,86],'Z':[86,97,96,72,83]}"
      ]
    },
    {
      "cell_type": "code",
      "metadata": {
        "id": "N1kbPGCqj2Oo",
        "colab_type": "code",
        "colab": {
          "base_uri": "https://localhost:8080/",
          "height": 122
        },
        "outputId": "3f6239f8-ee85-49be-be4d-5f5cf045f548"
      },
      "source": [
        "import pandas as pd\n",
        "df = pd.DataFrame({'X':[78,85,96,80,86], 'Y':[84,94,89,83,86],'Z':[86,97,96,72,83]});\n",
        "print(df)"
      ],
      "execution_count": null,
      "outputs": [
        {
          "output_type": "stream",
          "text": [
            "    X   Y   Z\n",
            "0  78  84  86\n",
            "1  85  94  97\n",
            "2  96  89  96\n",
            "3  80  83  72\n",
            "4  86  86  83\n"
          ],
          "name": "stdout"
        }
      ]
    },
    {
      "cell_type": "code",
      "metadata": {
        "id": "tqvGTlaFWfgR",
        "colab_type": "code",
        "colab": {
          "base_uri": "https://localhost:8080/",
          "height": 34
        },
        "outputId": "70a5264d-8479-4c83-ef6c-2d3d53a73f2a"
      },
      "source": [
        "import numpy as np\n",
        "x = np.random.randint(low=10, high=30, size=6)\n",
        "print(x)"
      ],
      "execution_count": 14,
      "outputs": [
        {
          "output_type": "stream",
          "text": [
            "[24 14 21 12 13 19]\n"
          ],
          "name": "stdout"
        }
      ]
    },
    {
      "cell_type": "code",
      "metadata": {
        "id": "ysg5ZZo5bunh",
        "colab_type": "code",
        "colab": {
          "base_uri": "https://localhost:8080/",
          "height": 210
        },
        "outputId": "49efd683-336f-46a9-cfa8-f47f85ed1ca2"
      },
      "source": [
        "import numpy as np\n",
        "x = np.random.random((3,3,3))\n",
        "print(x)"
      ],
      "execution_count": 15,
      "outputs": [
        {
          "output_type": "stream",
          "text": [
            "[[[0.47961046 0.22767205 0.95437974]\n",
            "  [0.01487638 0.46671001 0.12945164]\n",
            "  [0.82382552 0.21588272 0.95705113]]\n",
            "\n",
            " [[0.29974125 0.29289932 0.6171375 ]\n",
            "  [0.3604454  0.61216489 0.2054922 ]\n",
            "  [0.58652769 0.56936745 0.64673271]]\n",
            "\n",
            " [[0.92615656 0.50328741 0.77065834]\n",
            "  [0.62346344 0.45589784 0.07349502]\n",
            "  [0.18381439 0.58894991 0.59993024]]]\n"
          ],
          "name": "stdout"
        }
      ]
    },
    {
      "cell_type": "code",
      "metadata": {
        "id": "vr1PqQq_bx5Y",
        "colab_type": "code",
        "colab": {
          "base_uri": "https://localhost:8080/",
          "height": 157
        },
        "outputId": "2cc4878a-21ac-4043-f26f-c6546344f590"
      },
      "source": [
        "import numpy as np\n",
        "x = np.random.random((5,5))\n",
        "print(\"Original Array:\")\n",
        "print(x) \n",
        "xmin, xmax = x.min(), x.max()\n",
        "print(\"Minimum and Maximum Values:\")\n",
        "print(xmin, xmax)"
      ],
      "execution_count": 16,
      "outputs": [
        {
          "output_type": "stream",
          "text": [
            "Original Array:\n",
            "[[0.99367174 0.04902604 0.7013279  0.41636552 0.96123336]\n",
            " [0.69840629 0.7385223  0.30001566 0.74585484 0.02153211]\n",
            " [0.87023971 0.73804038 0.53522146 0.39887814 0.82220323]\n",
            " [0.98473879 0.79709911 0.48603195 0.41572808 0.9222777 ]\n",
            " [0.69279125 0.51111549 0.96757848 0.81719057 0.16152537]]\n",
            "Minimum and Maximum Values:\n",
            "0.021532111281860056 0.9936717432889027\n"
          ],
          "name": "stdout"
        }
      ]
    },
    {
      "cell_type": "code",
      "metadata": {
        "id": "XmKNT9chb6KP",
        "colab_type": "code",
        "colab": {
          "base_uri": "https://localhost:8080/",
          "height": 509
        },
        "outputId": "7d718f88-b273-4683-939c-75eafb8c6f51"
      },
      "source": [
        "import numpy as np\n",
        "x = np.random.rand(10, 4)\n",
        "print(\"Original array: \")\n",
        "print(x)\n",
        "y= x[:5, :]\n",
        "print(\"First 5 rows of the above array:\")\n",
        "y= x[:5, :]\n",
        "print(y)\n",
        "z= x[:, :4]\n",
        "print(\"First 3 columns of the above array:\")\n",
        "print(z)"
      ],
      "execution_count": 17,
      "outputs": [
        {
          "output_type": "stream",
          "text": [
            "Original array: \n",
            "[[0.84536961 0.99614875 0.22491311 0.61710978]\n",
            " [0.25486603 0.66273205 0.9682719  0.8384958 ]\n",
            " [0.9166823  0.20652382 0.59056648 0.01022046]\n",
            " [0.52015642 0.35170961 0.24923188 0.33543059]\n",
            " [0.2635326  0.77197433 0.16702359 0.89878467]\n",
            " [0.61923536 0.03400417 0.4972583  0.69121121]\n",
            " [0.77086747 0.59254368 0.21632502 0.64733808]\n",
            " [0.64917672 0.61192888 0.72540028 0.58386925]\n",
            " [0.10431675 0.15334046 0.22398733 0.60748358]\n",
            " [0.71216044 0.11956146 0.67936076 0.63893016]]\n",
            "First 5 rows of the above array:\n",
            "[[0.84536961 0.99614875 0.22491311 0.61710978]\n",
            " [0.25486603 0.66273205 0.9682719  0.8384958 ]\n",
            " [0.9166823  0.20652382 0.59056648 0.01022046]\n",
            " [0.52015642 0.35170961 0.24923188 0.33543059]\n",
            " [0.2635326  0.77197433 0.16702359 0.89878467]]\n",
            "First 3 columns of the above array:\n",
            "[[0.84536961 0.99614875 0.22491311 0.61710978]\n",
            " [0.25486603 0.66273205 0.9682719  0.8384958 ]\n",
            " [0.9166823  0.20652382 0.59056648 0.01022046]\n",
            " [0.52015642 0.35170961 0.24923188 0.33543059]\n",
            " [0.2635326  0.77197433 0.16702359 0.89878467]\n",
            " [0.61923536 0.03400417 0.4972583  0.69121121]\n",
            " [0.77086747 0.59254368 0.21632502 0.64733808]\n",
            " [0.64917672 0.61192888 0.72540028 0.58386925]\n",
            " [0.10431675 0.15334046 0.22398733 0.60748358]\n",
            " [0.71216044 0.11956146 0.67936076 0.63893016]]\n"
          ],
          "name": "stdout"
        }
      ]
    },
    {
      "cell_type": "code",
      "metadata": {
        "id": "8NRKB9R7b9Ot",
        "colab_type": "code",
        "colab": {
          "base_uri": "https://localhost:8080/",
          "height": 70
        },
        "outputId": "d33df640-4cd6-42b0-da71-3610e06106ba"
      },
      "source": [
        "import numpy as np\n",
        "x = np.arange(10)\n",
        "np.random.shuffle(x)\n",
        "print(x)\n",
        "print(\"Same result using permutation():\")\n",
        "print(np.random.permutation(10))\n"
      ],
      "execution_count": 18,
      "outputs": [
        {
          "output_type": "stream",
          "text": [
            "[2 5 9 6 0 8 7 4 3 1]\n",
            "Same result using permutation():\n",
            "[8 4 7 6 9 0 2 1 3 5]\n"
          ],
          "name": "stdout"
        }
      ]
    },
    {
      "cell_type": "code",
      "metadata": {
        "id": "Ny3yII48cAY5",
        "colab_type": "code",
        "colab": {
          "base_uri": "https://localhost:8080/",
          "height": 34
        },
        "outputId": "aee396d2-9868-4ca0-84fd-20f8856e824f"
      },
      "source": [
        "import numpy as np\n",
        "x = np.arange(10)\n",
        "np.random.randint(x,100)\n",
        "print(x)"
      ],
      "execution_count": 19,
      "outputs": [
        {
          "output_type": "stream",
          "text": [
            "[0 1 2 3 4 5 6 7 8 9]\n"
          ],
          "name": "stdout"
        }
      ]
    },
    {
      "cell_type": "code",
      "metadata": {
        "id": "_XapHIoOcC0n",
        "colab_type": "code",
        "colab": {
          "base_uri": "https://localhost:8080/",
          "height": 52
        },
        "outputId": "1d236103-0916-472d-f7ac-c9c26add653d"
      },
      "source": [
        "import numpy as np\n",
        "x=np.arange(10)\n",
        "np.random.shuffle(x)\n",
        "print(x)\n",
        "x.sort()\n",
        "print(x)\n"
      ],
      "execution_count": 20,
      "outputs": [
        {
          "output_type": "stream",
          "text": [
            "[5 1 3 7 4 0 8 9 6 2]\n",
            "[0 1 2 3 4 5 6 7 8 9]\n"
          ],
          "name": "stdout"
        }
      ]
    },
    {
      "cell_type": "code",
      "metadata": {
        "id": "3Q_OS4r3cFsq",
        "colab_type": "code",
        "colab": {}
      },
      "source": [
        ""
      ],
      "execution_count": null,
      "outputs": []
    }
  ]
}